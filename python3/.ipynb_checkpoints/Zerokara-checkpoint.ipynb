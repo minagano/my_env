{
 "cells": [
  {
   "cell_type": "code",
   "execution_count": 1,
   "metadata": {},
   "outputs": [
    {
     "data": {
      "text/plain": [
       "12321"
      ]
     },
     "execution_count": 1,
     "metadata": {},
     "output_type": "execute_result"
    }
   ],
   "source": [
    "111*111"
   ]
  },
  {
   "cell_type": "code",
   "execution_count": 6,
   "metadata": {},
   "outputs": [
    {
     "data": {
      "text/plain": [
       "101"
      ]
     },
     "execution_count": 6,
     "metadata": {},
     "output_type": "execute_result"
    }
   ],
   "source": [
    "import math\n",
    "x = 100.0112\n",
    "math.ceil(x)\n",
    "\n"
   ]
  },
  {
   "cell_type": "code",
   "execution_count": 2,
   "metadata": {},
   "outputs": [],
   "source": [
    "#ファイルに書き込む\n",
    "fw = open(\"kakugen.txt\", \"wt\") #w:write, t:text\n",
    "fw.write(\"光陰矢の如し\")\n",
    "fw.close()\n"
   ]
  },
  {
   "cell_type": "code",
   "execution_count": 3,
   "metadata": {},
   "outputs": [
    {
     "name": "stdout",
     "output_type": "stream",
     "text": [
      "光陰矢の如し\n"
     ]
    }
   ],
   "source": [
    "#ファイルを読み出す\n",
    "fr = open(\"kakugen.txt\", \"rt\") #r:read, t:text\n",
    "text = fr.read()\n",
    "print(text)\n",
    "fr.close()"
   ]
  },
  {
   "cell_type": "code",
   "execution_count": 14,
   "metadata": {},
   "outputs": [
    {
     "name": "stdout",
     "output_type": "stream",
     "text": [
      "zoo\t『動物園』\n",
      "\n",
      "zool.\tzoological / zoology\n",
      "\n",
      "zoological\t動物の;動物学の\n",
      "\n",
      "zoological garden\t動物園　= zoo\n",
      "\n",
      "zoologist\t動物学者\n",
      "\n",
      "zoology\t動物学\n",
      "\n",
      "zoom\t〈飛行機が〉急上昇する;(一般に)急上昇する / ブーンと大きな音を立てる(立てて動く) / (映画・テレビでズームレンズによって)〈映像が〉拡大(縮小)する《+in(out)》 〈他〉 / 〈飛行機〉‘を'急上昇させる / (飛行機)の急角度上昇[の音];ブーンという音\n",
      "\n",
      "zoom lens\tズームレンズ(焦点距離を自由に変えられるレンズ)\n",
      "\n",
      "zoophyte\t植虫(外見が植物に似た動物;イソギンチャク・サンゴなど)\n",
      "\n",
      "zooplankton\t動物プランクトン\n",
      "\n"
     ]
    }
   ],
   "source": [
    "#Word辞書のデータを一行づつ読む\n",
    "word = \"zoo\" #検索単語を指定\n",
    "fp = open(\"ejdict-hand-utf8.txt\", \"r\", encoding=\"utf-8\")\n",
    "for line in fp:\n",
    "    if line.startswith(word):\n",
    "        print(line)\n",
    "fp.close()"
   ]
  },
  {
   "cell_type": "code",
   "execution_count": 17,
   "metadata": {},
   "outputs": [
    {
     "name": "stdout",
     "output_type": "stream",
     "text": [
      "reluctant\t(人が)『気が進まない』,(行為などが)いやいやながらの\n",
      "\n",
      "reluctantly\t『いやいやながら』,不承不承に(unwillingly)\n",
      "\n"
     ]
    }
   ],
   "source": [
    "#Word辞書のデータを一行づつ読む\n",
    "word = \"reluctant\" #検索単語を指定\n",
    "fp = open(\"ejdict-hand-utf8.txt\", \"r\", encoding=\"utf-8\")\n",
    "for line in fp:\n",
    "    if line.startswith(word):\n",
    "        print(line)\n",
    "fp.close()"
   ]
  },
  {
   "cell_type": "code",
   "execution_count": 2,
   "metadata": {},
   "outputs": [
    {
     "name": "stdout",
     "output_type": "stream",
     "text": [
      "reluctant\t(人が)『気が進まない』,(行為などが)いやいやながらの\n",
      "\n",
      "reluctantly\t『いやいやながら』,不承不承に(unwillingly)\n",
      "\n"
     ]
    }
   ],
   "source": [
    "word = \"reluctant\" #検索単語を指定\n",
    "fp = open(\"ejdict-hand-utf8.txt\", \"r\", encoding=\"utf-8\")\n",
    "while True: #一行ずつ読み取る\n",
    "    line = fp.readline()\n",
    "    if not line: break #末尾なら繰り返しを抜ける\n",
    "    if line.startswith(word): print(line) #見つけたら表示\n",
    "fp.close()"
   ]
  },
  {
   "cell_type": "code",
   "execution_count": 3,
   "metadata": {},
   "outputs": [
    {
     "name": "stdout",
     "output_type": "stream",
     "text": [
      "quad\t=quadrangle2\n",
      "quad\t(録音再生が)4チャンネルの\n",
      "quad\t四つ子の一人\n",
      "quay\tはとば,埠頭(ふとう)\n",
      "quid\t1ポンド[の金額]\n",
      "quid\tかみたばこ;その一服\n",
      "quid pro quo\tお返し,埋め合わせ;代用品\n",
      "quin\t=quintuplet・五つ子の一人 / 《複数形で》五つ子 / (特に同種の)5個(5人)一組\n",
      "quip\t(特に当意即妙な)警句,気のきいた言葉 / しんらつな言葉 / 気のきいたこと(皮肉)を言う\n",
      "quit\t…‘を'『やめる』,『中止する』 / 〈職・地位など〉‘を'『断念する』,『此てる』,放棄する / 《英では古》〈人・土地など〉‘から'去る / やめる,中止する / 辞職(退職)する / (敗北を認めなどして)断念する / 去る;立ちのく / (…を)免れた,(…から)自由な《+『of』+『名』》\n",
      "quiz\t『小テスト』 / 『クイズ』 / (…について)《人》‘に'質問する,試験する《+『名』《人》+『about』(『no』)+『名』》\n",
      "quod\t監獄\n"
     ]
    }
   ],
   "source": [
    "import re #正規表現を使う\n",
    "fdic = open(\"ejdict-hand-utf8.txt\", \"r\", encoding=\"utf-8\")\n",
    "fw = open(\"q-list.txt\", \"wt\")\n",
    "\n",
    "for line in fdic:　#一行ずつ読んで、qから始まる４文字の単語を調べる\n",
    "    if re.match(r\"q[a-z]{3}\\s\", line):　#rを付けることを推奨、バックスラッシュがわかり易いため\\sは任意の空白\n",
    "        fw.write(line)\n",
    "        print(line.strip()) #.strip()空白文字を取り除くメソッド\n",
    "        \n",
    "fw.close()\n",
    "fdic.close()"
   ]
  },
  {
   "cell_type": "code",
   "execution_count": null,
   "metadata": {},
   "outputs": [],
   "source": []
  }
 ],
 "metadata": {
  "kernelspec": {
   "display_name": "Python 3",
   "language": "python",
   "name": "python3"
  },
  "language_info": {
   "codemirror_mode": {
    "name": "ipython",
    "version": 3
   },
   "file_extension": ".py",
   "mimetype": "text/x-python",
   "name": "python",
   "nbconvert_exporter": "python",
   "pygments_lexer": "ipython3",
   "version": "3.7.3"
  }
 },
 "nbformat": 4,
 "nbformat_minor": 2
}
