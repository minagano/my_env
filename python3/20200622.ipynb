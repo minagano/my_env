{
 "cells": [
  {
   "cell_type": "code",
   "execution_count": 1,
   "metadata": {},
   "outputs": [],
   "source": [
    "import pandas as pd\n",
    "df = pd.read_csv('~/Downloads/owid-covid-data.csv')\n",
    "JP = df[df[\"iso_code\"] == 'JPN'] #iso_code 'JPN'のデータだけを取り出す\n",
    "JP2 = JP[[\"location\",\"date\",\"total_cases\",\"new_cases\",\"total_deaths\",\"new_deaths\"]]\n",
    "JP2.to_csv('JP_record5.csv')"
   ]
  },
  {
   "cell_type": "code",
   "execution_count": 2,
   "metadata": {},
   "outputs": [],
   "source": [
    "import pandas as pd\n",
    "df = pd.read_csv('~/Downloads/owid-covid-data.csv')\n",
    "UK = df[df[\"iso_code\"] == 'GBR'] #iso_code 'JPN'のデータだけを取り出す\n",
    "UK2 = UK[[\"location\",\"date\",\"total_cases\",\"new_cases\",\"total_deaths\",\"new_deaths\"]]\n",
    "UK2.to_csv('UK_record5.csv')"
   ]
  },
  {
   "cell_type": "code",
   "execution_count": 2,
   "metadata": {},
   "outputs": [
    {
     "data": {
      "text/plain": [
       "<BarContainer object of 5 artists>"
      ]
     },
     "execution_count": 2,
     "metadata": {},
     "output_type": "execute_result"
    },
    {
     "data": {
      "image/png": "[encoded data removed]",
      "text/plain": [
       "<Figure size 432x288 with 1 Axes>"
      ]
     },
     "metadata": {
      "needs_background": "light"
     },
     "output_type": "display_data"
    }
   ],
   "source": [
    "%matplotlib inline\n",
    "import numpy as np\n",
    "import matplotlib.pyplot as plt\n",
    " \n",
    "left = np.array([1, 2, 3, 4, 5])\n",
    "height = np.array([100, 200, 300, 400, 500])\n",
    "plt.bar(left, height)"
   ]
  },
  {
   "cell_type": "code",
   "execution_count": null,
   "metadata": {},
   "outputs": [],
   "source": []
  }
 ],
 "metadata": {
  "kernelspec": {
   "display_name": "Python 3",
   "language": "python",
   "name": "python3"
  },
  "language_info": {
   "codemirror_mode": {
    "name": "ipython",
    "version": 3
   },
   "file_extension": ".py",
   "mimetype": "text/x-python",
   "name": "python",
   "nbconvert_exporter": "python",
   "pygments_lexer": "ipython3",
   "version": "3.7.3"
  }
 },
 "nbformat": 4,
 "nbformat_minor": 2
}
